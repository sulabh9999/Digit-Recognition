{
 "cells": [
  {
   "cell_type": "code",
   "execution_count": 1,
   "metadata": {},
   "outputs": [],
   "source": [
    "#     Python code to recognize number in given image, here i have implemented basic algo to extract number from image pixels.\n",
    "\n",
    "from PIL import Image\n",
    "import numpy as np\n",
    "import matplotlib.pyplot as plt\n",
    "from functools import reduce"
   ]
  },
  {
   "cell_type": "code",
   "execution_count": 2,
   "metadata": {},
   "outputs": [],
   "source": [
    "# remove all light color from image, convert it into black-white image based on certain theshold\n",
    "# image normalization, set dark black-white color pixel if image pixel crosses threshold value\n",
    "\n",
    "def threshold(imageArray):\n",
    "    # temprory blank array to hold average of each pixels for each row\n",
    "    balanceArr = []\n",
    "    \n",
    "    # get each row from image array\n",
    "    for eachRow in imageArray:\n",
    "        # for each pixels in row\n",
    "        for eachPix in eachRow:\n",
    "            # take average of each pixel\n",
    "            avg = reduce(lambda x,y: x+y, eachPix[:3])/3\n",
    "            balanceArr.append(avg)\n",
    "            \n",
    "    # find average of each pixel in image(row x col)\n",
    "    balance = reduce(lambda x,y: x+y, balanceArr)/len(balanceArr)\n",
    "    # temprory image array\n",
    "    newArray = []\n",
    "    \n",
    "    # for each row in image\n",
    "    for eachRow in imageArray:\n",
    "        rowArray = [] # row pixels list\n",
    "        # for each pixels\n",
    "        for eachPix in eachRow:\n",
    "            # check if each pixel is grater than threshold value\n",
    "            if reduce(lambda x,y: x+y, eachPix[:3])/3 > balance:\n",
    "                # set white color for pixel(which is grater than threshold)\n",
    "                rowArray.append(np.array([255, 255, 255, 255],dtype='uint8'))\n",
    "            else:\n",
    "                # set black color for pixels(which is lesser than threshold)\n",
    "                rowArray.append(np.array([0, 0, 0, 255],dtype='uint8'))\n",
    "                \n",
    "        # append each row in image\n",
    "        newArray.append(rowArray)\n",
    "        \n",
    "    return newArray           \n"
   ]
  },
  {
   "cell_type": "code",
   "execution_count": 3,
   "metadata": {
    "scrolled": true
   },
   "outputs": [],
   "source": [
    "# load images\n",
    "img = Image.open('images/sentdex.png')\n",
    "iArr = np.array(img, dtype='uint8')\n",
    "\n",
    "# set grids\n",
    "fig = plt.figure()\n",
    "plot1 = plt.subplot2grid((8,6), (0,0), rowspan=4, colspan=3)\n",
    "plot2 = plt.subplot2grid((8,6), (0,3), rowspan=4, colspan=3)\n",
    "\n",
    "# show images\n",
    "plot1.imshow(iArr)\n",
    "plot2.imshow(threshold(iArr))\n"
   ]
  },
  {
   "cell_type": "code",
   "execution_count": 4,
   "metadata": {},
   "outputs": [],
   "source": [
    "# store image array in txt file\n",
    "# this method dumps all number images examples to a text file, this text file works as database to compair other images\n",
    "\n",
    "def makeTxtDatabaseOfImages():\n",
    "    # create text file\n",
    "    numberArrayExample = open('storedImagesAsArray.txt', 'w')\n",
    "    \n",
    "    # for each image in directory\n",
    "    for eachNumber in range(0, 10): # each number \n",
    "        for eachVersion in range(1, 10): # each number image version\n",
    "            arr = [] # temporary array contains image as 1D array(after conversion 3 D to 1D)\n",
    "            imagePath = 'images/numbers/'+str(eachNumber)+'.'+str(eachVersion)+'.png'\n",
    "            try:\n",
    "                # open image\n",
    "                with Image.open(imagePath) as img:\n",
    "                    # convert image to 3D array\n",
    "                    imgArray = np.array(img)\n",
    "                    strRow = str(imgArray.tolist()) \n",
    "                    \n",
    "            except FileNotFoundError:\n",
    "                print(\"The file does not exist\", imagePath)\n",
    "            except PermissionError:\n",
    "                print(\"You don't have the permission to open the file\")\n",
    "            except Exception:\n",
    "                print(\"Unexpected error occured\")\n",
    "            \n",
    "            # convert image array to string and store it into file\n",
    "            lineToWrite = str(eachNumber)+'##'+str(strRow)+'\\n'               \n",
    "            numberArrayExample.write(lineToWrite)\n"
   ]
  },
  {
   "cell_type": "code",
   "execution_count": 5,
   "metadata": {},
   "outputs": [],
   "source": [
    "# check for given image number\n",
    "def whatNumberIsThis(filePath):\n",
    "    # temporary array to store matched number\n",
    "    matchedArr = [] \n",
    "    # temporary string to store given image array as string\n",
    "    qImgArrayStr = '' \n",
    "    \n",
    "    # read image file\n",
    "    img = Image.open(filePath, 'r')\n",
    "    imgArray = np.array(img)\n",
    "    qImgArrayStr = str(imgArray.tolist()) \n",
    "\n",
    "            \n",
    "    # get data from image data storage\n",
    "    with open('storedImagesAsArray.txt', 'r') as db:\n",
    "        # split data by lines\n",
    "        lines = db.read().split('\\n')\n",
    "        \n",
    "        # split each lines\n",
    "        for eachExample in lines:\n",
    "            splitExp = eachExample.split('##')\n",
    "            \n",
    "            # last line in file contains one element: ['\\n']\n",
    "            if len(splitExp) == 2:\n",
    "                currentNumber = splitExp[0]\n",
    "                currentArr  = splitExp[1]\n",
    "                \n",
    "                eachPixDB = currentArr.split('],')\n",
    "                eachPixInExp = qImgArrayStr.split('],')\n",
    "\n",
    "                # compare given image array with database array\n",
    "                for index in range(len(eachPixInExp)):\n",
    "                    if eachPixDB[index] == eachPixInExp[index]:\n",
    "                        matchedArr.append(int(currentNumber))  \n",
    "                        \n",
    "        # return number with higher probability\n",
    "        return max(set(matchedArr), key=matchedArr.count) "
   ]
  },
  {
   "cell_type": "code",
   "execution_count": 8,
   "metadata": {},
   "outputs": [],
   "source": [
    "if '__name__' == '__main__':\n",
    "    print('asdasdsa')\n",
    "    makeTxtDatabaseOfImages()\n",
    "    showImageConversionExample()\n",
    "    print(whatNumberIsThis('images/numbers/1.9.png'))"
   ]
  },
  {
   "cell_type": "code",
   "execution_count": null,
   "metadata": {},
   "outputs": [],
   "source": []
  }
 ],
 "metadata": {
  "kernelspec": {
   "display_name": "ipy-jupyter-venv3",
   "language": "python",
   "name": "myipy_jupter_env3"
  },
  "language_info": {
   "codemirror_mode": {
    "name": "ipython",
    "version": 3
   },
   "file_extension": ".py",
   "mimetype": "text/x-python",
   "name": "python",
   "nbconvert_exporter": "python",
   "pygments_lexer": "ipython3",
   "version": "3.5.2"
  }
 },
 "nbformat": 4,
 "nbformat_minor": 1
}
