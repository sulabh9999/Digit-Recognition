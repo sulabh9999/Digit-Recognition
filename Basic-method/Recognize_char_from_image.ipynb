{
 "cells": [
  {
   "cell_type": "code",
   "execution_count": 15,
   "metadata": {},
   "outputs": [],
   "source": [
    "#     Python code to recognize number in given image, here i have implemented basic algo to extract number from image pixels.\n",
    "\n",
    "from PIL import Image\n",
    "import numpy as np\n",
    "import matplotlib.pyplot as plt\n",
    "from functools import reduce"
   ]
  },
  {
   "cell_type": "code",
   "execution_count": 16,
   "metadata": {},
   "outputs": [],
   "source": [
    "# remove all light color from image, convert it into black-white image based on certain theshold\n",
    "# image normalization, set dark black-white color pixel if image pixel crosses threshold value\n",
    "\n",
    "def threshold(imageArray):\n",
    "    # temprory blank array to hold average of each pixels for each row\n",
    "    balanceArr = []\n",
    "    \n",
    "    # get each row from image array\n",
    "    for eachRow in imageArray:\n",
    "        # for each pixels in row\n",
    "        for eachPix in eachRow:\n",
    "            # take average of each pixel\n",
    "            avg = reduce(lambda x,y: x+y, eachPix[:3])/3\n",
    "            balanceArr.append(avg)\n",
    "            \n",
    "    # find average of each pixel in image(row x col)\n",
    "    balance = reduce(lambda x,y: x+y, balanceArr)/len(balanceArr)\n",
    "    # temprory image array\n",
    "    newArray = []\n",
    "    \n",
    "    # for each row in image\n",
    "    for eachRow in imageArray:\n",
    "        rowArray = [] # row pixels list\n",
    "        # for each pixels\n",
    "        for eachPix in eachRow:\n",
    "            # check if each pixel is grater than threshold value\n",
    "            if reduce(lambda x,y: x+y, eachPix[:3])/3 > balance:\n",
    "                # set white color for pixel(which is grater than threshold)\n",
    "                rowArray.append(np.array([255, 255, 255, 255],dtype='uint8'))\n",
    "            else:\n",
    "                # set black color for pixels(which is lesser than threshold)\n",
    "                rowArray.append(np.array([0, 0, 0, 255],dtype='uint8'))\n",
    "                \n",
    "        # append each row in image\n",
    "        newArray.append(rowArray)\n",
    "        \n",
    "    return newArray           \n"
   ]
  },
  {
   "cell_type": "code",
   "execution_count": 17,
   "metadata": {
    "scrolled": true
   },
   "outputs": [
    {
     "name": "stderr",
     "output_type": "stream",
     "text": [
      "/home/nawaz/Documents/venv/lib/python3.5/site-packages/ipykernel_launcher.py:13: RuntimeWarning: overflow encountered in ubyte_scalars\n",
      "  del sys.path[0]\n",
      "/home/nawaz/Documents/venv/lib/python3.5/site-packages/ipykernel_launcher.py:27: RuntimeWarning: overflow encountered in ubyte_scalars\n"
     ]
    },
    {
     "data": {
      "text/plain": [
       "<matplotlib.image.AxesImage at 0x7f3b04885748>"
      ]
     },
     "execution_count": 17,
     "metadata": {},
     "output_type": "execute_result"
    },
    {
     "data": {
      "image/png": "[encoded data removed]",
      "text/plain": [
       "<matplotlib.figure.Figure at 0x7f3b06932a20>"
      ]
     },
     "metadata": {},
     "output_type": "display_data"
    }
   ],
   "source": [
    "# load images\n",
    "img = Image.open('images/sentdex.png')\n",
    "iArr = np.array(img, dtype='uint8')\n",
    "\n",
    "# set grids\n",
    "fig = plt.figure()\n",
    "plot1 = plt.subplot2grid((8,6), (0,0), rowspan=4, colspan=3)\n",
    "plot2 = plt.subplot2grid((8,6), (0,3), rowspan=4, colspan=3)\n",
    "\n",
    "# show images\n",
    "plot1.imshow(iArr)\n",
    "plot2.imshow(threshold(iArr))\n"
   ]
  },
  {
   "cell_type": "code",
   "execution_count": 18,
   "metadata": {},
   "outputs": [],
   "source": [
    "# store image array in txt file\n",
    "# this method dumps all number images examples to a text file, this text file works as database to compair other images\n",
    "\n",
    "def makeTxtDatabaseOfImages():\n",
    "    # create text file\n",
    "    numberArrayExample = open('storedImagesAsArray.txt', 'w')\n",
    "    \n",
    "    # for each image in directory\n",
    "    for eachNumber in range(0, 10): # each number \n",
    "        for eachVersion in range(1, 10): # each number image version\n",
    "            arr = [] # temporary array contains image as 1D array(after conversion 3 D to 1D)\n",
    "            imagePath = 'images/numbers/'+str(eachNumber)+'.'+str(eachVersion)+'.png'\n",
    "            try:\n",
    "                # open image\n",
    "                with Image.open(imagePath) as img:\n",
    "                    # convert image to 3D array\n",
    "                    imgArray = np.array(img)\n",
    "                    strRow = str(imgArray.tolist()) \n",
    "                    \n",
    "            except FileNotFoundError:\n",
    "                print(\"The file does not exist\", imagePath)\n",
    "            except PermissionError:\n",
    "                print(\"You don't have the permission to open the file\")\n",
    "            except Exception:\n",
    "                print(\"Unexpected error occured\")\n",
    "            \n",
    "            # convert image array to string and store it into file\n",
    "            lineToWrite = str(eachNumber)+'##'+str(strRow)+'\\n'               \n",
    "            numberArrayExample.write(lineToWrite)\n",
    "makeTxtDatabaseOfImages()"
   ]
  },
  {
   "cell_type": "code",
   "execution_count": 19,
   "metadata": {},
   "outputs": [],
   "source": [
    "# check for given image number\n",
    "def whatNumberIsThis(filePath):\n",
    "    # temporary array to store matched number\n",
    "    matchedArr = [] \n",
    "    # temporary string to store given image array as string\n",
    "    qImgArrayStr = '' \n",
    "    \n",
    "    # read image file\n",
    "    img = Image.open(filePath, 'r')\n",
    "    imgArray = np.array(img)\n",
    "    qImgArrayStr = str(imgArray.tolist()) \n",
    "\n",
    "            \n",
    "    # get data from image data storage\n",
    "    with open('storedImagesAsArray.txt', 'r') as db:\n",
    "        # split data by lines\n",
    "        lines = db.read().split('\\n')\n",
    "        \n",
    "        # split each lines\n",
    "        for eachExample in lines:\n",
    "            splitExp = eachExample.split('##')\n",
    "            \n",
    "            # last line in file contains one element: ['\\n']\n",
    "            if len(splitExp) == 2:\n",
    "                currentNumber = splitExp[0]\n",
    "                currentArr  = splitExp[1]\n",
    "                \n",
    "                eachPixDB = currentArr.split('],')\n",
    "                eachPixInExp = qImgArrayStr.split('],')\n",
    "\n",
    "                # compare given image array with database array\n",
    "                for index in range(len(eachPixInExp)):\n",
    "                    if eachPixDB[index] == eachPixInExp[index]:\n",
    "                        matchedArr.append(int(currentNumber))  \n",
    "                        \n",
    "        # return number with higher probability\n",
    "        return max(set(matchedArr), key=matchedArr.count) "
   ]
  },
  {
   "cell_type": "code",
   "execution_count": 9,
   "metadata": {},
   "outputs": [
    {
     "ename": "FileNotFoundError",
     "evalue": "[Errno 2] No such file or directory: 'images/numbers/1.9.png'",
     "output_type": "error",
     "traceback": [
      "\u001b[0;31m---------------------------------------------------------------------------\u001b[0m",
      "\u001b[0;31mFileNotFoundError\u001b[0m                         Traceback (most recent call last)",
      "\u001b[0;32m<ipython-input-9-50c6506d6256>\u001b[0m in \u001b[0;36m<module>\u001b[0;34m()\u001b[0m\n\u001b[0;32m----> 1\u001b[0;31m \u001b[0mprint\u001b[0m\u001b[0;34m(\u001b[0m\u001b[0mwhatNumberIsThis\u001b[0m\u001b[0;34m(\u001b[0m\u001b[0;34m'images/numbers/1.9.png'\u001b[0m\u001b[0;34m)\u001b[0m\u001b[0;34m)\u001b[0m\u001b[0;34m\u001b[0m\u001b[0m\n\u001b[0m",
      "\u001b[0;32m<ipython-input-5-0e4319470265>\u001b[0m in \u001b[0;36mwhatNumberIsThis\u001b[0;34m(filePath)\u001b[0m\n\u001b[1;32m      7\u001b[0m \u001b[0;34m\u001b[0m\u001b[0m\n\u001b[1;32m      8\u001b[0m     \u001b[0;31m# read image file\u001b[0m\u001b[0;34m\u001b[0m\u001b[0;34m\u001b[0m\u001b[0m\n\u001b[0;32m----> 9\u001b[0;31m     \u001b[0mimg\u001b[0m \u001b[0;34m=\u001b[0m \u001b[0mImage\u001b[0m\u001b[0;34m.\u001b[0m\u001b[0mopen\u001b[0m\u001b[0;34m(\u001b[0m\u001b[0mfilePath\u001b[0m\u001b[0;34m,\u001b[0m \u001b[0;34m'r'\u001b[0m\u001b[0;34m)\u001b[0m\u001b[0;34m\u001b[0m\u001b[0m\n\u001b[0m\u001b[1;32m     10\u001b[0m     \u001b[0mimgArray\u001b[0m \u001b[0;34m=\u001b[0m \u001b[0mnp\u001b[0m\u001b[0;34m.\u001b[0m\u001b[0marray\u001b[0m\u001b[0;34m(\u001b[0m\u001b[0mimg\u001b[0m\u001b[0;34m)\u001b[0m\u001b[0;34m\u001b[0m\u001b[0m\n\u001b[1;32m     11\u001b[0m     \u001b[0mqImgArrayStr\u001b[0m \u001b[0;34m=\u001b[0m \u001b[0mstr\u001b[0m\u001b[0;34m(\u001b[0m\u001b[0mimgArray\u001b[0m\u001b[0;34m.\u001b[0m\u001b[0mtolist\u001b[0m\u001b[0;34m(\u001b[0m\u001b[0;34m)\u001b[0m\u001b[0;34m)\u001b[0m\u001b[0;34m\u001b[0m\u001b[0m\n",
      "\u001b[0;32m~/Documents/venv/lib/python3.5/site-packages/PIL/Image.py\u001b[0m in \u001b[0;36mopen\u001b[0;34m(fp, mode)\u001b[0m\n\u001b[1;32m   2541\u001b[0m \u001b[0;34m\u001b[0m\u001b[0m\n\u001b[1;32m   2542\u001b[0m     \u001b[0;32mif\u001b[0m \u001b[0mfilename\u001b[0m\u001b[0;34m:\u001b[0m\u001b[0;34m\u001b[0m\u001b[0m\n\u001b[0;32m-> 2543\u001b[0;31m         \u001b[0mfp\u001b[0m \u001b[0;34m=\u001b[0m \u001b[0mbuiltins\u001b[0m\u001b[0;34m.\u001b[0m\u001b[0mopen\u001b[0m\u001b[0;34m(\u001b[0m\u001b[0mfilename\u001b[0m\u001b[0;34m,\u001b[0m \u001b[0;34m\"rb\"\u001b[0m\u001b[0;34m)\u001b[0m\u001b[0;34m\u001b[0m\u001b[0m\n\u001b[0m\u001b[1;32m   2544\u001b[0m         \u001b[0mexclusive_fp\u001b[0m \u001b[0;34m=\u001b[0m \u001b[0;32mTrue\u001b[0m\u001b[0;34m\u001b[0m\u001b[0m\n\u001b[1;32m   2545\u001b[0m \u001b[0;34m\u001b[0m\u001b[0m\n",
      "\u001b[0;31mFileNotFoundError\u001b[0m: [Errno 2] No such file or directory: 'images/numbers/1.9.png'"
     ]
    }
   ],
   "source": [
    "print(whatNumberIsThis(''))"
   ]
  },
  {
   "cell_type": "code",
   "execution_count": null,
   "metadata": {},
   "outputs": [],
   "source": []
  }
 ],
 "metadata": {
  "kernelspec": {
   "display_name": "ipy-jupyter-venv3",
   "language": "python",
   "name": "myipy_jupter_env3"
  },
  "language_info": {
   "codemirror_mode": {
    "name": "ipython",
    "version": 3
   },
   "file_extension": ".py",
   "mimetype": "text/x-python",
   "name": "python",
   "nbconvert_exporter": "python",
   "pygments_lexer": "ipython3",
   "version": "3.5.2"
  }
 },
 "nbformat": 4,
 "nbformat_minor": 1
}
